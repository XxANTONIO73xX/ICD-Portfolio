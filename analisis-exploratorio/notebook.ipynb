{
 "cells": [
  {
   "cell_type": "markdown",
   "metadata": {},
   "source": [
    "<html>\n",
    "    <style>\n",
    "        h1, p{ \n",
    "            text-align: center;\n",
    "        }\n",
    "        .container-left, .container-right{\n",
    "            display:inline-block; \n",
    "            width: 50%;\n",
    "            height: 140px; \n",
    "            padding: 0; margin: 0;\n",
    "            float: left;\n",
    "            background-color: white;\n",
    "            color: black;\n",
    "            }\n",
    "        .contairner-right:{float: right; }\n",
    "        img{\n",
    "            width: 50%;\n",
    "            margin: 0 25% 0 0;\n",
    "            padding: 0;\n",
    "            float: right;\n",
    "        }\n",
    "    </style>\n",
    "    <div class=\"container-left\">\n",
    "        <h1>Analisis Exploratorio</h1>\n",
    "        <p>Cyberbullying Tweets</p>\n",
    "    </div>\n",
    "    <div class=\"container-right\">\n",
    "        <img src=\"img/dataset-cover.png\">\n",
    "    </div>\n",
    "\n",
    "</html>"
   ]
  },
  {
   "cell_type": "markdown",
   "metadata": {},
   "source": [
    "<html>\n",
    "    <style>\n",
    "        h1{ \n",
    "            text-align: center;\n",
    "        }\n",
    "        p{\n",
    "            text-align: justify;\n",
    "        }\n",
    "        .container{ width: 97%; padding: 0; margin: 0 1%;}\n",
    "    </style>\n",
    "    <div class=\"container\">\n",
    "        <h1>Acerca del conjunto de datos</h1>\n",
    "        <p>Un conjunto de datos perfectamente equilibrado de 50% de tweets medios y 50% de tweets \"normales\" - fusionados de diferentes conjuntos de datos del propio kaggle.\n",
    "        Se estaba usando para crear un Modelo de Aprendizaje Profundo para detectar Tweets Medios.\n",
    "        Cualquiera es libre de trabajar en esto y emular lo mismo.</p>\n",
    "        <a src=\"https://www.kaggle.com/datasets/soorajtomar/cyberbullying-tweets\">Kaggle dataset</a>\n",
    "    </div>\n",
    "</html>"
   ]
  },
  {
   "cell_type": "code",
   "execution_count": 1,
   "metadata": {},
   "outputs": [],
   "source": [
    "import numpy as np\n",
    "import pandas as pd\n",
    "import matplotlib.pyplot as plt\n",
    "import seaborn as sns"
   ]
  },
  {
   "cell_type": "code",
   "execution_count": 2,
   "metadata": {},
   "outputs": [
    {
     "data": {
      "text/html": [
       "<div>\n",
       "<style scoped>\n",
       "    .dataframe tbody tr th:only-of-type {\n",
       "        vertical-align: middle;\n",
       "    }\n",
       "\n",
       "    .dataframe tbody tr th {\n",
       "        vertical-align: top;\n",
       "    }\n",
       "\n",
       "    .dataframe thead th {\n",
       "        text-align: right;\n",
       "    }\n",
       "</style>\n",
       "<table border=\"1\" class=\"dataframe\">\n",
       "  <thead>\n",
       "    <tr style=\"text-align: right;\">\n",
       "      <th></th>\n",
       "      <th>Text</th>\n",
       "      <th>CB_Label</th>\n",
       "    </tr>\n",
       "  </thead>\n",
       "  <tbody>\n",
       "    <tr>\n",
       "      <th>0</th>\n",
       "      <td>damn there is someones nana up here at beach w...</td>\n",
       "      <td>0</td>\n",
       "    </tr>\n",
       "    <tr>\n",
       "      <th>1</th>\n",
       "      <td>no kidding! dick clark was a corpse mechanical...</td>\n",
       "      <td>0</td>\n",
       "    </tr>\n",
       "    <tr>\n",
       "      <th>2</th>\n",
       "      <td>i read an article on jobros and thought damn w...</td>\n",
       "      <td>0</td>\n",
       "    </tr>\n",
       "    <tr>\n",
       "      <th>3</th>\n",
       "      <td>I got one fucking day of sprinkles and now it'...</td>\n",
       "      <td>0</td>\n",
       "    </tr>\n",
       "    <tr>\n",
       "      <th>4</th>\n",
       "      <td>I was already listening to Elliott smith  and ...</td>\n",
       "      <td>0</td>\n",
       "    </tr>\n",
       "    <tr>\n",
       "      <th>...</th>\n",
       "      <td>...</td>\n",
       "      <td>...</td>\n",
       "    </tr>\n",
       "    <tr>\n",
       "      <th>11095</th>\n",
       "      <td>\"Don't worry you little empty head over it ......</td>\n",
       "      <td>1</td>\n",
       "    </tr>\n",
       "    <tr>\n",
       "      <th>11096</th>\n",
       "      <td>\"Some of Ya'll are dumb as fuck.... These are ...</td>\n",
       "      <td>1</td>\n",
       "    </tr>\n",
       "    <tr>\n",
       "      <th>11097</th>\n",
       "      <td>\"Lana, you're so full of shit your eyes are br...</td>\n",
       "      <td>1</td>\n",
       "    </tr>\n",
       "    <tr>\n",
       "      <th>11098</th>\n",
       "      <td>\"You ain't lying let the @dbeeio61:disqus\\xa0\\...</td>\n",
       "      <td>1</td>\n",
       "    </tr>\n",
       "    <tr>\n",
       "      <th>11099</th>\n",
       "      <td>\"Looks like that little Cut-n-paste job has go...</td>\n",
       "      <td>1</td>\n",
       "    </tr>\n",
       "  </tbody>\n",
       "</table>\n",
       "<p>11100 rows × 2 columns</p>\n",
       "</div>"
      ],
      "text/plain": [
       "                                                    Text  CB_Label\n",
       "0      damn there is someones nana up here at beach w...         0\n",
       "1      no kidding! dick clark was a corpse mechanical...         0\n",
       "2      i read an article on jobros and thought damn w...         0\n",
       "3      I got one fucking day of sprinkles and now it'...         0\n",
       "4      I was already listening to Elliott smith  and ...         0\n",
       "...                                                  ...       ...\n",
       "11095  \"Don't worry you little empty head over it ......         1\n",
       "11096  \"Some of Ya'll are dumb as fuck.... These are ...         1\n",
       "11097  \"Lana, you're so full of shit your eyes are br...         1\n",
       "11098  \"You ain't lying let the @dbeeio61:disqus\\xa0\\...         1\n",
       "11099  \"Looks like that little Cut-n-paste job has go...         1\n",
       "\n",
       "[11100 rows x 2 columns]"
      ]
     },
     "execution_count": 2,
     "metadata": {},
     "output_type": "execute_result"
    }
   ],
   "source": [
    "df = pd.read_csv(r\"../dataset/x-tweets/CyberBullying Comments Dataset.csv\")\n",
    "df"
   ]
  },
  {
   "cell_type": "code",
   "execution_count": 41,
   "metadata": {},
   "outputs": [
    {
     "name": "stdout",
     "output_type": "stream",
     "text": [
      "I got one fucking day of sprinkles and now it's back to sunshine and douchebaggery.\" lo encontrado =>f\n"
     ]
    }
   ],
   "source": [
    "word = df.at[3,'Text']\n",
    "fin = word.find(\"fuck\")\n",
    "print(word, \"lo encontrado =>\" + word[fin])"
   ]
  }
 ],
 "metadata": {
  "kernelspec": {
   "display_name": "Python 3",
   "language": "python",
   "name": "python3"
  },
  "language_info": {
   "codemirror_mode": {
    "name": "ipython",
    "version": 3
   },
   "file_extension": ".py",
   "mimetype": "text/x-python",
   "name": "python",
   "nbconvert_exporter": "python",
   "pygments_lexer": "ipython3",
   "version": "3.11.4"
  },
  "orig_nbformat": 4
 },
 "nbformat": 4,
 "nbformat_minor": 2
}
